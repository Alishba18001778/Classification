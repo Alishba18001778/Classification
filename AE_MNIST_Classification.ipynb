{
  "nbformat": 4,
  "nbformat_minor": 0,
  "metadata": {
    "accelerator": "GPU",
    "colab": {
      "name": "AE-MNIST_Classification.ipynb",
      "provenance": [],
      "collapsed_sections": [],
      "authorship_tag": "ABX9TyMudTnN3O7JcV8GyoDiiBlo",
      "include_colab_link": true
    },
    "kernelspec": {
      "display_name": "Python 3",
      "name": "python3"
    },
    "language_info": {
      "name": "python"
    }
  },
  "cells": [
    {
      "cell_type": "markdown",
      "metadata": {
        "id": "view-in-github",
        "colab_type": "text"
      },
      "source": [
        "<a href=\"https://colab.research.google.com/github/Alishba18001778/Classification/blob/main/AE_MNIST_Classification.ipynb\" target=\"_parent\"><img src=\"https://colab.research.google.com/assets/colab-badge.svg\" alt=\"Open In Colab\"/></a>"
      ]
    },
    {
      "cell_type": "code",
      "metadata": {
        "colab": {
          "base_uri": "https://localhost:8080/"
        },
        "id": "fM4xrfdXfw97",
        "outputId": "4044e728-a56d-434a-aa0e-b8fd1b1e4b51"
      },
      "source": [
        "import tensorflow as tf\n",
        "import pandas as pd\n",
        "import numpy as np\n",
        "import matplotlib.pyplot as plt\n",
        "import seaborn as sns\n",
        "#import random\n",
        "!pip install wget\n",
        "from random import sample\n",
        "\n",
        "from os import path\n",
        "import h5py\n",
        "import keras.backend as K\n",
        "import wget\n",
        "\n",
        "from keras.utils.np_utils import to_categorical\n",
        "from keras.models import load_model\n",
        "from keras.callbacks import EarlyStopping\n",
        "from keras.callbacks import ModelCheckpoint\n",
        "\n",
        "from keras.layers import Input, Dense, Conv2D, Flatten, MaxPooling2D, UpSampling2D, BatchNormalization, AveragePooling2D, Dropout, Conv2DTranspose, SeparableConv2D, Add\n",
        "from keras.models import Model\n",
        "from keras import backend as K\n",
        "from tensorflow.keras import datasets, layers, losses"
      ],
      "execution_count": 24,
      "outputs": [
        {
          "output_type": "stream",
          "text": [
            "Requirement already satisfied: wget in /usr/local/lib/python3.7/dist-packages (3.2)\n"
          ],
          "name": "stdout"
        }
      ]
    },
    {
      "cell_type": "code",
      "metadata": {
        "id": "kOr5MJgRfyV8"
      },
      "source": [
        "\n",
        "(train_images, train_labels), (test_images, test_labels) = datasets.mnist.load_data()\n",
        "\n",
        "# Normalize pixel values to be between 0 and 1\n",
        "train_images, test_images = train_images / 255.0, test_images / 255.0\n",
        "train_images = np.reshape(train_images, (len(train_images), 28, 28, 1))\n",
        "test_images = np.reshape(test_images, (len(test_images), 28, 28, 1))"
      ],
      "execution_count": 25,
      "outputs": []
    },
    {
      "cell_type": "code",
      "metadata": {
        "id": "gSsa--w0f5Ro"
      },
      "source": [
        "\n",
        "def my_model():\n",
        "  input_img = Input(shape=(28, 28, 1))\n",
        "  num_filter = 28\n",
        "  kernel_size = 5\n",
        "  strides = 1   \n",
        "  \n",
        "  x = Conv2D(num_filter, kernel_size, strides, activation='relu', padding='same', name = 'enc1')(input_img)\n",
        "\n",
        "  x = Conv2D(1, kernel_size, strides, activation='relu', padding='same', name = 'enc2')(x) \n",
        "\n",
        "  x = AveragePooling2D((2, 2))(x)\n",
        "\n",
        "  # x = Conv2D(1, kernel_size, strides, activation='relu', padding='same', name = 'enc4')(x) \n",
        "  # x = AveragePooling2D((2, 2))(x)   \n",
        "\n",
        "  encoded = BatchNormalization()(x)\n",
        "  y = Flatten()(encoded)\n",
        "  y = Dense(128, activation='relu')(y)\n",
        "  output = Dense(10, activation='softmax')(y)\n",
        "  \n",
        "\n",
        "  # x = UpSampling2D((2,1), interpolation = 'bilinear')(encoded)\n",
        "  # x = Conv2DTranspose(1, kernel_size, strides, activation='relu', padding='same', name = 'dec1')(x)\n",
        "\n",
        "  # # x = UpSampling2D((2,2), interpolation = 'bilinear')(x)        \n",
        "  # # x = Conv2DTranspose(1, kernel_size, strides, activation='relu', padding='same', name = 'dec2')(x) \n",
        "  # x = BatchNormalization()(x)\n",
        "  \n",
        "  # x = Conv2DTranspose(num_filter, kernel_size, strides, activation='relu', padding='same', name = 'dec4')(x)\n",
        "  # # x = BatchNormalization()(x) \n",
        "  # decoded = Conv2D(1,(1, 1), activation='sigmoid', name = 'output')(x)\n",
        "\n",
        "  autoencoder = Model(input_img, output)\n",
        "  autoencoder.compile(optimizer='adam', loss='sparse_categorical_crossentropy',metrics = ['accuracy'])\n",
        "  return autoencoder\n",
        "\n",
        "autoencoder= my_model()"
      ],
      "execution_count": 59,
      "outputs": []
    },
    {
      "cell_type": "code",
      "metadata": {
        "colab": {
          "base_uri": "https://localhost:8080/"
        },
        "id": "3QwhTGH_gI0v",
        "outputId": "3b46b9cd-9050-4476-faff-547cc0959943"
      },
      "source": [
        "autoencoder.summary()"
      ],
      "execution_count": 60,
      "outputs": [
        {
          "output_type": "stream",
          "text": [
            "Model: \"model_3\"\n",
            "_________________________________________________________________\n",
            "Layer (type)                 Output Shape              Param #   \n",
            "=================================================================\n",
            "input_4 (InputLayer)         [(None, 28, 28, 1)]       0         \n",
            "_________________________________________________________________\n",
            "enc1 (Conv2D)                (None, 28, 28, 28)        728       \n",
            "_________________________________________________________________\n",
            "enc2 (Conv2D)                (None, 28, 28, 1)         701       \n",
            "_________________________________________________________________\n",
            "average_pooling2d_3 (Average (None, 14, 14, 1)         0         \n",
            "_________________________________________________________________\n",
            "batch_normalization_3 (Batch (None, 14, 14, 1)         4         \n",
            "_________________________________________________________________\n",
            "flatten_3 (Flatten)          (None, 196)               0         \n",
            "_________________________________________________________________\n",
            "dense_6 (Dense)              (None, 128)               25216     \n",
            "_________________________________________________________________\n",
            "dense_7 (Dense)              (None, 10)                1290      \n",
            "=================================================================\n",
            "Total params: 27,939\n",
            "Trainable params: 27,937\n",
            "Non-trainable params: 2\n",
            "_________________________________________________________________\n"
          ],
          "name": "stdout"
        }
      ]
    },
    {
      "cell_type": "code",
      "metadata": {
        "colab": {
          "base_uri": "https://localhost:8080/"
        },
        "id": "nLHLuWdGgND9",
        "outputId": "554fc2fb-e48d-47c9-e0c5-cb6f36354ac7"
      },
      "source": [
        "es = tf.keras.callbacks.EarlyStopping(monitor='val_loss', patience=5, mode='min')\n",
        "\n",
        "checkpoint = ModelCheckpoint('models\\\\modelmnist-best.h5',\n",
        "                                  verbose=0, monitor='val_loss',save_best_only=True, mode='auto')\n",
        "\n",
        "autoencoder.fit(train_images, train_labels,\n",
        "                epochs=200,\n",
        "                batch_size=256,\n",
        "                shuffle=True,\n",
        "                validation_data=(test_images, test_labels),\n",
        "                callbacks = [es, checkpoint]\n",
        "                )\n",
        "\n",
        "del autoencoder  # deletes the existing model\n",
        "autoencoder = load_model('models\\\\modelmnist-best.h5')"
      ],
      "execution_count": 61,
      "outputs": [
        {
          "output_type": "stream",
          "text": [
            "Epoch 1/200\n",
            "235/235 [==============================] - 3s 8ms/step - loss: 0.8483 - accuracy: 0.7261 - val_loss: 0.5938 - val_accuracy: 0.9395\n",
            "Epoch 2/200\n",
            "235/235 [==============================] - 1s 6ms/step - loss: 0.1522 - accuracy: 0.9564 - val_loss: 0.1261 - val_accuracy: 0.9693\n",
            "Epoch 3/200\n",
            "235/235 [==============================] - 1s 6ms/step - loss: 0.0952 - accuracy: 0.9715 - val_loss: 0.0884 - val_accuracy: 0.9735\n",
            "Epoch 4/200\n",
            "235/235 [==============================] - 1s 6ms/step - loss: 0.0711 - accuracy: 0.9791 - val_loss: 0.0679 - val_accuracy: 0.9775\n",
            "Epoch 5/200\n",
            "235/235 [==============================] - 1s 6ms/step - loss: 0.0531 - accuracy: 0.9845 - val_loss: 0.0592 - val_accuracy: 0.9811\n",
            "Epoch 6/200\n",
            "235/235 [==============================] - 1s 6ms/step - loss: 0.0444 - accuracy: 0.9871 - val_loss: 0.0571 - val_accuracy: 0.9804\n",
            "Epoch 7/200\n",
            "235/235 [==============================] - 1s 6ms/step - loss: 0.0359 - accuracy: 0.9892 - val_loss: 0.0627 - val_accuracy: 0.9794\n",
            "Epoch 8/200\n",
            "235/235 [==============================] - 1s 6ms/step - loss: 0.0352 - accuracy: 0.9891 - val_loss: 0.0561 - val_accuracy: 0.9819\n",
            "Epoch 9/200\n",
            "235/235 [==============================] - 1s 6ms/step - loss: 0.0291 - accuracy: 0.9915 - val_loss: 0.0489 - val_accuracy: 0.9832\n",
            "Epoch 10/200\n",
            "235/235 [==============================] - 1s 6ms/step - loss: 0.0246 - accuracy: 0.9926 - val_loss: 0.0461 - val_accuracy: 0.9841\n",
            "Epoch 11/200\n",
            "235/235 [==============================] - 1s 6ms/step - loss: 0.0214 - accuracy: 0.9942 - val_loss: 0.0579 - val_accuracy: 0.9827\n",
            "Epoch 12/200\n",
            "235/235 [==============================] - 1s 6ms/step - loss: 0.0177 - accuracy: 0.9949 - val_loss: 0.0459 - val_accuracy: 0.9852\n",
            "Epoch 13/200\n",
            "235/235 [==============================] - 1s 6ms/step - loss: 0.0162 - accuracy: 0.9951 - val_loss: 0.0662 - val_accuracy: 0.9807\n",
            "Epoch 14/200\n",
            "235/235 [==============================] - 1s 6ms/step - loss: 0.0130 - accuracy: 0.9960 - val_loss: 0.0488 - val_accuracy: 0.9857\n",
            "Epoch 15/200\n",
            "235/235 [==============================] - 1s 6ms/step - loss: 0.0126 - accuracy: 0.9958 - val_loss: 0.0588 - val_accuracy: 0.9822\n",
            "Epoch 16/200\n",
            "235/235 [==============================] - 1s 6ms/step - loss: 0.0110 - accuracy: 0.9970 - val_loss: 0.0495 - val_accuracy: 0.9857\n",
            "Epoch 17/200\n",
            "235/235 [==============================] - 1s 6ms/step - loss: 0.0074 - accuracy: 0.9982 - val_loss: 0.1091 - val_accuracy: 0.9706\n"
          ],
          "name": "stdout"
        }
      ]
    },
    {
      "cell_type": "code",
      "metadata": {
        "colab": {
          "base_uri": "https://localhost:8080/"
        },
        "id": "Wxmvs-d-PipJ",
        "outputId": "6b3eb70d-e33d-4525-c02d-d7ccd34f027d"
      },
      "source": [
        "test_images.shape\n",
        "test_labels.shape"
      ],
      "execution_count": 6,
      "outputs": [
        {
          "output_type": "execute_result",
          "data": {
            "text/plain": [
              "(10000,)"
            ]
          },
          "metadata": {
            "tags": []
          },
          "execution_count": 6
        }
      ]
    },
    {
      "cell_type": "code",
      "metadata": {
        "id": "DWDewEqIvGLD"
      },
      "source": [
        "noise_factor_uniform = 0.4\n",
        "noise_factor_normal = 0.25\n",
        "\n",
        "x_test_noisy_uniform = test_images + noise_factor_uniform * np.random.uniform(size=test_images.shape) \n",
        "x_test_noisy_normal = test_images + noise_factor_normal * np.random.normal(size=test_images.shape)\n",
        "\n",
        "x_test_noisy_uniform = np.clip(x_test_noisy_uniform, 0., 1.)\n",
        "x_test_noisy_normal = np.clip(x_test_noisy_normal, 0., 1.)"
      ],
      "execution_count": 62,
      "outputs": []
    },
    {
      "cell_type": "code",
      "metadata": {
        "colab": {
          "base_uri": "https://localhost:8080/"
        },
        "id": "Rq_4hSxWgXFB",
        "outputId": "2de211d0-3765-4fc2-858b-5bdf63753717"
      },
      "source": [
        "predicted_uniform = autoencoder.evaluate(x_test_noisy_uniform,test_labels)\n",
        "predicted_uniform = np.clip(predicted_uniform, 0., 1.)\n",
        "\n",
        "predicted_normal = autoencoder.evaluate(x_test_noisy_normal,test_labels)\n",
        "predicted_normal = np.clip(predicted_normal, 0., 1.)\n",
        "print(predicted_uniform[1])"
      ],
      "execution_count": 63,
      "outputs": [
        {
          "output_type": "stream",
          "text": [
            "313/313 [==============================] - 1s 2ms/step - loss: 2.9756 - accuracy: 0.5308\n",
            "313/313 [==============================] - 1s 2ms/step - loss: 2.9426 - accuracy: 0.5695\n",
            "0.5307999849319458\n"
          ],
          "name": "stdout"
        }
      ]
    },
    {
      "cell_type": "code",
      "metadata": {
        "colab": {
          "base_uri": "https://localhost:8080/"
        },
        "id": "9am_Wuqri97_",
        "outputId": "a0fc0cc9-f5e7-418a-943b-2bcd4cf23ce7"
      },
      "source": [
        "\n",
        "psnr_uniform_input = tf.image.psnr(x_test_noisy_uniform, test_images, max_val=1.0)\n",
        "\n",
        "psnr_normal_input = tf.image.psnr(x_test_noisy_normal, test_images, max_val=1.0)\n",
        "\n",
        "print('Uniform: ', np.mean(psnr_uniform_input), np.mean(predicted_uniform[1]) )\n",
        "print('Gaussian: ', np.mean(psnr_normal_input), np.mean(predicted_normal[1]))\n"
      ],
      "execution_count": 64,
      "outputs": [
        {
          "output_type": "stream",
          "text": [
            "Uniform:  13.203412 0.5307999849319458\n",
            "Gaussian:  14.857358 0.5695000290870667\n"
          ],
          "name": "stdout"
        }
      ]
    },
    {
      "cell_type": "code",
      "metadata": {
        "id": "H-l34OPrjWZp"
      },
      "source": [
        "def calculate_PSNR(test_images,noise_factor_uniform,noise_factor_normal,autoencoder):\n",
        "  x_test_noisy_uniform = test_images + noise_factor_uniform * np.random.uniform(size=test_images.shape) \n",
        "  x_test_noisy_normal = test_images + noise_factor_normal * np.random.normal(size=test_images.shape)\n",
        "  \n",
        "  x_test_noisy_uniform = np.clip(x_test_noisy_uniform, 0., 1.)\n",
        "  x_test_noisy_normal = np.clip(x_test_noisy_normal, 0., 1.)\n",
        "\n",
        "  predicted_uniform = autoencoder.evaluate(x_test_noisy_uniform,test_labels)\n",
        "  predicted_normal = autoencoder.evaluate(x_test_noisy_normal,test_labels)\n",
        "  \n",
        "  predicted_uniform = np.clip(predicted_uniform, 0., 1.)\n",
        "  predicted_normal = np.clip(predicted_normal, 0., 1.)\n",
        "\n",
        "\n",
        "  psnr_uniform_input = tf.image.psnr(x_test_noisy_uniform, test_images, max_val=1.0)\n",
        "\n",
        "  psnr_normal_input = tf.image.psnr(x_test_noisy_normal, test_images, max_val=1.0)\n",
        "\n",
        "  print('Uniform: ', np.mean(psnr_uniform_input), np.mean(predicted_uniform[1]))\n",
        "  print('Gaussian: ', np.mean(psnr_normal_input), np.mean(predicted_normal[1]))\n",
        "\n",
        "  return np.mean(psnr_uniform_input), np.mean(predicted_uniform[1])*100, np.mean(psnr_normal_input), np.mean(predicted_normal[1])*100"
      ],
      "execution_count": 65,
      "outputs": []
    },
    {
      "cell_type": "code",
      "metadata": {
        "colab": {
          "base_uri": "https://localhost:8080/"
        },
        "id": "8qFisjwrkvAO",
        "outputId": "a55e3f0b-50b7-4294-957b-9208ff5044fc"
      },
      "source": [
        "\n",
        "# print('----')\n",
        "# noise_factor_uniform = 0.74\n",
        "# noise_factor_normal = 0.5\n",
        "# noise_factor_speckle = 2.8\n",
        "# calculate_PSNR(test_images,noise_factor_uniform,noise_factor_normal,noise_factor_speckle,autoencoder)\n",
        "PSNR_Results = []\n",
        "for i in range(0,20):\n",
        "  noise_factor_uniform = i*0.035\n",
        "  noise_factor_normal = i*0.025\n",
        "  \n",
        "  PSNR_Results.append(calculate_PSNR(test_images,noise_factor_uniform,noise_factor_normal,autoencoder))\n",
        "  print('----')\n",
        "\n",
        "PSNR_Results = np.asarray(PSNR_Results)"
      ],
      "execution_count": 66,
      "outputs": [
        {
          "output_type": "stream",
          "text": [
            "313/313 [==============================] - 1s 2ms/step - loss: 0.0459 - accuracy: 0.9852\n",
            "313/313 [==============================] - 1s 2ms/step - loss: 0.0459 - accuracy: 0.9852\n",
            "Uniform:  inf 0.9851999878883362\n",
            "Gaussian:  inf 0.9851999878883362\n",
            "----\n",
            "313/313 [==============================] - 1s 2ms/step - loss: 0.0788 - accuracy: 0.9749\n",
            "313/313 [==============================] - 1s 2ms/step - loss: 0.0511 - accuracy: 0.9831\n",
            "Uniform:  34.19517 0.9749000072479248\n",
            "Gaussian:  34.578373 0.9830999970436096\n",
            "----\n",
            "313/313 [==============================] - 1s 2ms/step - loss: 0.4046 - accuracy: 0.8765\n",
            "313/313 [==============================] - 1s 2ms/step - loss: 0.0861 - accuracy: 0.9721\n",
            "Uniform:  28.218037 0.8765000104904175\n",
            "Gaussian:  28.617853 0.972100019454956\n",
            "----\n",
            "313/313 [==============================] - 1s 2ms/step - loss: 1.0912 - accuracy: 0.7554\n",
            "313/313 [==============================] - 1s 2ms/step - loss: 0.1828 - accuracy: 0.9428\n",
            "Uniform:  24.718105 0.7554000020027161\n",
            "Gaussian:  25.122688 0.942799985408783\n",
            "----\n",
            "313/313 [==============================] - 1s 2ms/step - loss: 1.6071 - accuracy: 0.7017\n",
            "313/313 [==============================] - 1s 2ms/step - loss: 0.3891 - accuracy: 0.8812\n",
            "Uniform:  22.234531 0.70169997215271\n",
            "Gaussian:  22.665247 0.8812000155448914\n",
            "----\n",
            "313/313 [==============================] - 1s 2ms/step - loss: 1.8864 - accuracy: 0.6691\n",
            "313/313 [==============================] - 1s 2ms/step - loss: 0.6879 - accuracy: 0.8152\n",
            "Uniform:  20.311924 0.6690999865531921\n",
            "Gaussian:  20.754143 0.8151999711990356\n",
            "----\n",
            "313/313 [==============================] - 1s 2ms/step - loss: 2.0528 - accuracy: 0.6503\n",
            "313/313 [==============================] - 1s 2ms/step - loss: 1.0688 - accuracy: 0.7578\n",
            "Uniform:  18.741514 0.6503000259399414\n",
            "Gaussian:  19.19622 0.7577999830245972\n",
            "----\n",
            "313/313 [==============================] - 1s 2ms/step - loss: 2.1890 - accuracy: 0.6314\n",
            "313/313 [==============================] - 1s 2ms/step - loss: 1.4827 - accuracy: 0.7088\n",
            "Uniform:  17.413927 0.6313999891281128\n",
            "Gaussian:  17.875025 0.7088000178337097\n",
            "----\n",
            "313/313 [==============================] - 1s 2ms/step - loss: 2.3336 - accuracy: 0.6088\n",
            "313/313 [==============================] - 1s 2ms/step - loss: 1.9139 - accuracy: 0.6635\n",
            "Uniform:  16.264662 0.6087999939918518\n",
            "Gaussian:  16.747204 0.6635000109672546\n",
            "----\n",
            "313/313 [==============================] - 1s 2ms/step - loss: 2.4986 - accuracy: 0.5898\n",
            "313/313 [==============================] - 1s 2ms/step - loss: 2.3594 - accuracy: 0.6158\n",
            "Uniform:  15.25278 0.5898000001907349\n",
            "Gaussian:  15.752149 0.6158000230789185\n",
            "----\n",
            "313/313 [==============================] - 1s 2ms/step - loss: 2.6889 - accuracy: 0.5643\n",
            "313/313 [==============================] - 1s 2ms/step - loss: 2.9297 - accuracy: 0.5661\n",
            "Uniform:  14.34897 0.564300000667572\n",
            "Gaussian:  14.8546 0.566100001335144\n",
            "----\n",
            "313/313 [==============================] - 1s 2ms/step - loss: 2.8867 - accuracy: 0.5392\n",
            "313/313 [==============================] - 1s 2ms/step - loss: 3.4903 - accuracy: 0.5202\n",
            "Uniform:  13.530178 0.5392000079154968\n",
            "Gaussian:  14.058039 0.5202000141143799\n",
            "----\n",
            "313/313 [==============================] - 1s 2ms/step - loss: 3.1084 - accuracy: 0.5139\n",
            "313/313 [==============================] - 1s 2ms/step - loss: 4.1621 - accuracy: 0.4715\n",
            "Uniform:  12.783403 0.5138999819755554\n",
            "Gaussian:  13.327647 0.4715000092983246\n",
            "----\n",
            "313/313 [==============================] - 1s 2ms/step - loss: 3.3487 - accuracy: 0.4846\n",
            "313/313 [==============================] - 1s 2ms/step - loss: 4.7992 - accuracy: 0.4331\n",
            "Uniform:  12.097259 0.4846000075340271\n",
            "Gaussian:  12.664198 0.43309998512268066\n",
            "----\n",
            "313/313 [==============================] - 1s 2ms/step - loss: 3.6344 - accuracy: 0.4602\n",
            "313/313 [==============================] - 1s 2ms/step - loss: 5.5422 - accuracy: 0.3910\n",
            "Uniform:  11.464599 0.4602000117301941\n",
            "Gaussian:  12.052722 0.39100000262260437\n",
            "----\n",
            "313/313 [==============================] - 1s 2ms/step - loss: 3.9388 - accuracy: 0.4370\n",
            "313/313 [==============================] - 1s 2ms/step - loss: 6.2396 - accuracy: 0.3587\n",
            "Uniform:  10.874276 0.43700000643730164\n",
            "Gaussian:  11.506723 0.3587000072002411\n",
            "----\n",
            "313/313 [==============================] - 1s 2ms/step - loss: 4.2859 - accuracy: 0.4086\n",
            "313/313 [==============================] - 1s 2ms/step - loss: 7.0135 - accuracy: 0.3287\n",
            "Uniform:  10.322421 0.40860000252723694\n",
            "Gaussian:  10.999401 0.3287000060081482\n",
            "----\n",
            "313/313 [==============================] - 1s 2ms/step - loss: 4.6387 - accuracy: 0.3839\n",
            "313/313 [==============================] - 1s 2ms/step - loss: 7.7049 - accuracy: 0.3014\n",
            "Uniform:  9.804605 0.383899986743927\n",
            "Gaussian:  10.536039 0.30140000581741333\n",
            "----\n",
            "313/313 [==============================] - 1s 2ms/step - loss: 5.0100 - accuracy: 0.3617\n",
            "313/313 [==============================] - 1s 2ms/step - loss: 8.4748 - accuracy: 0.2750\n",
            "Uniform:  9.315612 0.36169999837875366\n",
            "Gaussian:  10.1224785 0.2750000059604645\n",
            "----\n",
            "313/313 [==============================] - 1s 2ms/step - loss: 5.3902 - accuracy: 0.3324\n",
            "313/313 [==============================] - 1s 2ms/step - loss: 9.1609 - accuracy: 0.2613\n",
            "Uniform:  8.857432 0.33239999413490295\n",
            "Gaussian:  9.727879 0.2612999975681305\n",
            "----\n"
          ],
          "name": "stdout"
        }
      ]
    },
    {
      "cell_type": "code",
      "metadata": {
        "colab": {
          "base_uri": "https://localhost:8080/",
          "height": 17
        },
        "id": "vnoQwDGVk5Lr",
        "outputId": "bfcb4c07-b9e4-4b46-953f-6abc5471f73e"
      },
      "source": [
        "\n",
        "from scipy.io import savemat\n",
        "\n",
        "savemat('Noisy_Classification_MNIST_2x.mat',{'PSNR_Results':PSNR_Results})\n",
        "\n",
        "from google.colab import files\n",
        "files.download(\"Noisy_Classification_MNIST_2x.mat\")"
      ],
      "execution_count": 58,
      "outputs": [
        {
          "output_type": "display_data",
          "data": {
            "application/javascript": [
              "\n",
              "    async function download(id, filename, size) {\n",
              "      if (!google.colab.kernel.accessAllowed) {\n",
              "        return;\n",
              "      }\n",
              "      const div = document.createElement('div');\n",
              "      const label = document.createElement('label');\n",
              "      label.textContent = `Downloading \"${filename}\": `;\n",
              "      div.appendChild(label);\n",
              "      const progress = document.createElement('progress');\n",
              "      progress.max = size;\n",
              "      div.appendChild(progress);\n",
              "      document.body.appendChild(div);\n",
              "\n",
              "      const buffers = [];\n",
              "      let downloaded = 0;\n",
              "\n",
              "      const channel = await google.colab.kernel.comms.open(id);\n",
              "      // Send a message to notify the kernel that we're ready.\n",
              "      channel.send({})\n",
              "\n",
              "      for await (const message of channel.messages) {\n",
              "        // Send a message to notify the kernel that we're ready.\n",
              "        channel.send({})\n",
              "        if (message.buffers) {\n",
              "          for (const buffer of message.buffers) {\n",
              "            buffers.push(buffer);\n",
              "            downloaded += buffer.byteLength;\n",
              "            progress.value = downloaded;\n",
              "          }\n",
              "        }\n",
              "      }\n",
              "      const blob = new Blob(buffers, {type: 'application/binary'});\n",
              "      const a = document.createElement('a');\n",
              "      a.href = window.URL.createObjectURL(blob);\n",
              "      a.download = filename;\n",
              "      div.appendChild(a);\n",
              "      a.click();\n",
              "      div.remove();\n",
              "    }\n",
              "  "
            ],
            "text/plain": [
              "<IPython.core.display.Javascript object>"
            ]
          },
          "metadata": {
            "tags": []
          }
        },
        {
          "output_type": "display_data",
          "data": {
            "application/javascript": [
              "download(\"download_8d9163f4-7ee2-4869-8654-33730e2065fd\", \"Noisy_Classification_MNIST_2x.mat\", 840)"
            ],
            "text/plain": [
              "<IPython.core.display.Javascript object>"
            ]
          },
          "metadata": {
            "tags": []
          }
        }
      ]
    },
    {
      "cell_type": "markdown",
      "metadata": {
        "id": "rygf2MjpqjSg"
      },
      "source": [
        "(AE-NCC for 2x compression)\n",
        "\n",
        "[link text](https://github.com/Alishba18001778/Codes/blob/main/AE_MNIST_2x.png//)\n",
        "\n",
        "\n"
      ]
    },
    {
      "cell_type": "markdown",
      "metadata": {
        "id": "NLAtddqg2JpU"
      },
      "source": [
        "AE-NCC for 4x compression\n",
        "[link text](https://github.com/Alishba18001778/Codes/blob/main/AE_MNIST_4x.png//)"
      ]
    }
  ]
}